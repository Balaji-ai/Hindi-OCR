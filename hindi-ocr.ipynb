{
 "cells": [
  {
   "cell_type": "markdown",
   "metadata": {
    "papermill": {
     "duration": 0.031311,
     "end_time": "2021-09-26T08:15:04.402434",
     "exception": false,
     "start_time": "2021-09-26T08:15:04.371123",
     "status": "completed"
    },
    "tags": []
   },
   "source": [
    "# Import Packages"
   ]
  },
  {
   "cell_type": "code",
   "execution_count": 1,
   "metadata": {
    "execution": {
     "iopub.execute_input": "2021-09-26T08:15:04.466328Z",
     "iopub.status.busy": "2021-09-26T08:15:04.464638Z",
     "iopub.status.idle": "2021-09-26T08:15:05.828086Z",
     "shell.execute_reply": "2021-09-26T08:15:05.827015Z",
     "shell.execute_reply.started": "2021-09-26T07:21:42.350311Z"
    },
    "papermill": {
     "duration": 1.396584,
     "end_time": "2021-09-26T08:15:05.828297",
     "exception": false,
     "start_time": "2021-09-26T08:15:04.431713",
     "status": "completed"
    },
    "tags": []
   },
   "outputs": [],
   "source": [
    "import os\n",
    "import pandas as pd\n",
    "import numpy as np\n",
    "import matplotlib.pyplot as plt\n",
    "import PIL.Image as Image\n",
    "\n",
    "import torch\n",
    "import torch.nn as nn\n",
    "from torch.utils.data import DataLoader,Dataset\n",
    "from torchvision import models,transforms"
   ]
  },
  {
   "cell_type": "code",
   "execution_count": 2,
   "metadata": {
    "execution": {
     "iopub.execute_input": "2021-09-26T08:15:05.938104Z",
     "iopub.status.busy": "2021-09-26T08:15:05.937536Z",
     "iopub.status.idle": "2021-09-26T08:15:05.941075Z",
     "shell.execute_reply": "2021-09-26T08:15:05.941765Z",
     "shell.execute_reply.started": "2021-09-26T07:21:43.905582Z"
    },
    "papermill": {
     "duration": 0.080242,
     "end_time": "2021-09-26T08:15:05.941901",
     "exception": false,
     "start_time": "2021-09-26T08:15:05.861659",
     "status": "completed"
    },
    "tags": []
   },
   "outputs": [],
   "source": [
    "device = torch.device('cuda' if torch.cuda.is_available() else 'cpu')"
   ]
  },
  {
   "cell_type": "code",
   "execution_count": 3,
   "metadata": {
    "execution": {
     "iopub.execute_input": "2021-09-26T08:15:06.007049Z",
     "iopub.status.busy": "2021-09-26T08:15:06.006447Z",
     "iopub.status.idle": "2021-09-26T08:15:06.009928Z",
     "shell.execute_reply": "2021-09-26T08:15:06.010376Z",
     "shell.execute_reply.started": "2021-09-26T07:21:43.984982Z"
    },
    "papermill": {
     "duration": 0.039547,
     "end_time": "2021-09-26T08:15:06.010502",
     "exception": false,
     "start_time": "2021-09-26T08:15:05.970955",
     "status": "completed"
    },
    "tags": []
   },
   "outputs": [
    {
     "data": {
      "text/plain": [
       "device(type='cuda')"
      ]
     },
     "execution_count": 3,
     "metadata": {},
     "output_type": "execute_result"
    }
   ],
   "source": [
    "device"
   ]
  },
  {
   "cell_type": "markdown",
   "metadata": {
    "papermill": {
     "duration": 0.029692,
     "end_time": "2021-09-26T08:15:06.070719",
     "exception": false,
     "start_time": "2021-09-26T08:15:06.041027",
     "status": "completed"
    },
    "tags": []
   },
   "source": [
    "# Load the Data"
   ]
  },
  {
   "cell_type": "code",
   "execution_count": 4,
   "metadata": {
    "execution": {
     "iopub.execute_input": "2021-09-26T08:15:06.133431Z",
     "iopub.status.busy": "2021-09-26T08:15:06.132869Z",
     "iopub.status.idle": "2021-09-26T08:15:06.136676Z",
     "shell.execute_reply": "2021-09-26T08:15:06.136267Z",
     "shell.execute_reply.started": "2021-09-26T07:21:44.004302Z"
    },
    "papermill": {
     "duration": 0.036594,
     "end_time": "2021-09-26T08:15:06.136792",
     "exception": false,
     "start_time": "2021-09-26T08:15:06.100198",
     "status": "completed"
    },
    "tags": []
   },
   "outputs": [],
   "source": [
    "train_path = '../input/hindiocr/training/training'"
   ]
  },
  {
   "cell_type": "code",
   "execution_count": 5,
   "metadata": {
    "execution": {
     "iopub.execute_input": "2021-09-26T08:15:06.199499Z",
     "iopub.status.busy": "2021-09-26T08:15:06.198931Z",
     "iopub.status.idle": "2021-09-26T08:15:06.418228Z",
     "shell.execute_reply": "2021-09-26T08:15:06.417770Z",
     "shell.execute_reply.started": "2021-09-26T07:21:44.014259Z"
    },
    "papermill": {
     "duration": 0.252231,
     "end_time": "2021-09-26T08:15:06.418352",
     "exception": false,
     "start_time": "2021-09-26T08:15:06.166121",
     "status": "completed"
    },
    "tags": []
   },
   "outputs": [],
   "source": [
    "real_images_ = os.listdir(f'{train_path}/hi')\n",
    "real_images = []\n",
    "for i in real_images_:\n",
    "    real_images.append('hi/'+i) \n",
    "    \n",
    "fake_images_ = os.listdir(f'{train_path}/background')\n",
    "fake_images = []\n",
    "for i in fake_images_:\n",
    "    fake_images.append('background/'+i)  "
   ]
  },
  {
   "cell_type": "code",
   "execution_count": 6,
   "metadata": {
    "execution": {
     "iopub.execute_input": "2021-09-26T08:15:06.481033Z",
     "iopub.status.busy": "2021-09-26T08:15:06.480282Z",
     "iopub.status.idle": "2021-09-26T08:15:06.484505Z",
     "shell.execute_reply": "2021-09-26T08:15:06.484871Z",
     "shell.execute_reply.started": "2021-09-26T07:23:04.382059Z"
    },
    "papermill": {
     "duration": 0.03723,
     "end_time": "2021-09-26T08:15:06.484990",
     "exception": false,
     "start_time": "2021-09-26T08:15:06.447760",
     "status": "completed"
    },
    "tags": []
   },
   "outputs": [
    {
     "name": "stdout",
     "output_type": "stream",
     "text": [
      "No.of.Real images: 1425\n",
      "No.of.Fake images: 4450\n"
     ]
    }
   ],
   "source": [
    "print(f'No.of.Real images: {len(real_images)}')\n",
    "print(f'No.of.Fake images: {len(fake_images)}')"
   ]
  },
  {
   "cell_type": "code",
   "execution_count": 7,
   "metadata": {
    "execution": {
     "iopub.execute_input": "2021-09-26T08:15:06.548147Z",
     "iopub.status.busy": "2021-09-26T08:15:06.547551Z",
     "iopub.status.idle": "2021-09-26T08:15:06.550008Z",
     "shell.execute_reply": "2021-09-26T08:15:06.550451Z",
     "shell.execute_reply.started": "2021-09-26T07:23:07.416129Z"
    },
    "papermill": {
     "duration": 0.035677,
     "end_time": "2021-09-26T08:15:06.550570",
     "exception": false,
     "start_time": "2021-09-26T08:15:06.514893",
     "status": "completed"
    },
    "tags": []
   },
   "outputs": [],
   "source": [
    "real_labels = np.ones(len(real_images)) #Contains ones\n",
    "fake_labels = np.zeros(len(fake_images)) #Contains zeros"
   ]
  },
  {
   "cell_type": "code",
   "execution_count": 8,
   "metadata": {
    "execution": {
     "iopub.execute_input": "2021-09-26T08:15:06.613299Z",
     "iopub.status.busy": "2021-09-26T08:15:06.612546Z",
     "iopub.status.idle": "2021-09-26T08:15:06.615291Z",
     "shell.execute_reply": "2021-09-26T08:15:06.614783Z",
     "shell.execute_reply.started": "2021-09-26T07:23:10.335925Z"
    },
    "papermill": {
     "duration": 0.035516,
     "end_time": "2021-09-26T08:15:06.615394",
     "exception": false,
     "start_time": "2021-09-26T08:15:06.579878",
     "status": "completed"
    },
    "tags": []
   },
   "outputs": [],
   "source": [
    "Images = real_images + fake_images\n",
    "Labels = np.concatenate((real_labels,fake_labels))"
   ]
  },
  {
   "cell_type": "code",
   "execution_count": 9,
   "metadata": {
    "execution": {
     "iopub.execute_input": "2021-09-26T08:15:06.682594Z",
     "iopub.status.busy": "2021-09-26T08:15:06.681896Z",
     "iopub.status.idle": "2021-09-26T08:15:06.684561Z",
     "shell.execute_reply": "2021-09-26T08:15:06.684136Z",
     "shell.execute_reply.started": "2021-09-26T07:25:58.972776Z"
    },
    "papermill": {
     "duration": 0.039986,
     "end_time": "2021-09-26T08:15:06.684663",
     "exception": false,
     "start_time": "2021-09-26T08:15:06.644677",
     "status": "completed"
    },
    "tags": []
   },
   "outputs": [],
   "source": [
    "train_df = pd.DataFrame({'Images':Images,'Labels':Labels})"
   ]
  },
  {
   "cell_type": "code",
   "execution_count": 10,
   "metadata": {
    "execution": {
     "iopub.execute_input": "2021-09-26T08:15:06.749875Z",
     "iopub.status.busy": "2021-09-26T08:15:06.749344Z",
     "iopub.status.idle": "2021-09-26T08:15:06.754148Z",
     "shell.execute_reply": "2021-09-26T08:15:06.754660Z",
     "shell.execute_reply.started": "2021-09-26T07:26:01.696184Z"
    },
    "papermill": {
     "duration": 0.040757,
     "end_time": "2021-09-26T08:15:06.754789",
     "exception": false,
     "start_time": "2021-09-26T08:15:06.714032",
     "status": "completed"
    },
    "tags": []
   },
   "outputs": [],
   "source": [
    "train_df = train_df.sample(frac=1)"
   ]
  },
  {
   "cell_type": "code",
   "execution_count": 11,
   "metadata": {
    "execution": {
     "iopub.execute_input": "2021-09-26T08:15:06.822560Z",
     "iopub.status.busy": "2021-09-26T08:15:06.821756Z",
     "iopub.status.idle": "2021-09-26T08:15:06.832847Z",
     "shell.execute_reply": "2021-09-26T08:15:06.832369Z",
     "shell.execute_reply.started": "2021-09-26T07:26:03.490844Z"
    },
    "papermill": {
     "duration": 0.048393,
     "end_time": "2021-09-26T08:15:06.832957",
     "exception": false,
     "start_time": "2021-09-26T08:15:06.784564",
     "status": "completed"
    },
    "tags": []
   },
   "outputs": [
    {
     "data": {
      "text/html": [
       "<div>\n",
       "<style scoped>\n",
       "    .dataframe tbody tr th:only-of-type {\n",
       "        vertical-align: middle;\n",
       "    }\n",
       "\n",
       "    .dataframe tbody tr th {\n",
       "        vertical-align: top;\n",
       "    }\n",
       "\n",
       "    .dataframe thead th {\n",
       "        text-align: right;\n",
       "    }\n",
       "</style>\n",
       "<table border=\"1\" class=\"dataframe\">\n",
       "  <thead>\n",
       "    <tr style=\"text-align: right;\">\n",
       "      <th></th>\n",
       "      <th>Images</th>\n",
       "      <th>Labels</th>\n",
       "    </tr>\n",
       "  </thead>\n",
       "  <tbody>\n",
       "    <tr>\n",
       "      <th>1714</th>\n",
       "      <td>background/envelope_18_flip_blur_d3.jpg</td>\n",
       "      <td>0.0</td>\n",
       "    </tr>\n",
       "    <tr>\n",
       "      <th>2299</th>\n",
       "      <td>background/displayPanel_1_rotate_sharpen_d2.jpg</td>\n",
       "      <td>0.0</td>\n",
       "    </tr>\n",
       "    <tr>\n",
       "      <th>3880</th>\n",
       "      <td>background/envelope_16_rotate_none_d3.jpg</td>\n",
       "      <td>0.0</td>\n",
       "    </tr>\n",
       "    <tr>\n",
       "      <th>2041</th>\n",
       "      <td>background/door_0_none_sharpen_d3.jpg</td>\n",
       "      <td>0.0</td>\n",
       "    </tr>\n",
       "    <tr>\n",
       "      <th>2934</th>\n",
       "      <td>background/fabric_5_none_edgeEnhance.jpg</td>\n",
       "      <td>0.0</td>\n",
       "    </tr>\n",
       "  </tbody>\n",
       "</table>\n",
       "</div>"
      ],
      "text/plain": [
       "                                               Images  Labels\n",
       "1714          background/envelope_18_flip_blur_d3.jpg     0.0\n",
       "2299  background/displayPanel_1_rotate_sharpen_d2.jpg     0.0\n",
       "3880        background/envelope_16_rotate_none_d3.jpg     0.0\n",
       "2041            background/door_0_none_sharpen_d3.jpg     0.0\n",
       "2934         background/fabric_5_none_edgeEnhance.jpg     0.0"
      ]
     },
     "execution_count": 11,
     "metadata": {},
     "output_type": "execute_result"
    }
   ],
   "source": [
    "train_df.head()"
   ]
  },
  {
   "cell_type": "code",
   "execution_count": 12,
   "metadata": {
    "execution": {
     "iopub.execute_input": "2021-09-26T08:15:06.897578Z",
     "iopub.status.busy": "2021-09-26T08:15:06.897033Z",
     "iopub.status.idle": "2021-09-26T08:15:06.901543Z",
     "shell.execute_reply": "2021-09-26T08:15:06.901989Z",
     "shell.execute_reply.started": "2021-09-26T07:26:05.611126Z"
    },
    "papermill": {
     "duration": 0.038112,
     "end_time": "2021-09-26T08:15:06.902112",
     "exception": false,
     "start_time": "2021-09-26T08:15:06.864000",
     "status": "completed"
    },
    "tags": []
   },
   "outputs": [
    {
     "name": "stdout",
     "output_type": "stream",
     "text": [
      "No.of.Trainining samples: 5875\n"
     ]
    }
   ],
   "source": [
    "print(f'No.of.Trainining samples: {len(train_df)}')"
   ]
  },
  {
   "cell_type": "code",
   "execution_count": 13,
   "metadata": {
    "execution": {
     "iopub.execute_input": "2021-09-26T08:15:06.968918Z",
     "iopub.status.busy": "2021-09-26T08:15:06.967672Z",
     "iopub.status.idle": "2021-09-26T08:15:06.970067Z",
     "shell.execute_reply": "2021-09-26T08:15:06.970446Z",
     "shell.execute_reply.started": "2021-09-26T07:26:08.611165Z"
    },
    "papermill": {
     "duration": 0.038519,
     "end_time": "2021-09-26T08:15:06.970563",
     "exception": false,
     "start_time": "2021-09-26T08:15:06.932044",
     "status": "completed"
    },
    "tags": []
   },
   "outputs": [],
   "source": [
    "class ImageDataset(Dataset):\n",
    "    \n",
    "    def __init__(self,path,df,image_transforms,train=True):\n",
    "        self.path = path\n",
    "        self.df = df\n",
    "        self.image_transforms = image_transforms\n",
    "        self.train = train\n",
    "        \n",
    "    def __len__(self):\n",
    "        return len(self.df)\n",
    "    \n",
    "    def __getitem__(self,idx):\n",
    "        img = Image.open(f'{self.path}/{self.df.iloc[idx,0]}')\n",
    "        if self.image_transforms:\n",
    "            img = self.image_transforms(img)\n",
    "        if self.train:\n",
    "            label = self.df.iloc[idx,1]\n",
    "            return img,label\n",
    "        return img                "
   ]
  },
  {
   "cell_type": "code",
   "execution_count": 14,
   "metadata": {
    "execution": {
     "iopub.execute_input": "2021-09-26T08:15:07.035765Z",
     "iopub.status.busy": "2021-09-26T08:15:07.034990Z",
     "iopub.status.idle": "2021-09-26T08:15:07.037951Z",
     "shell.execute_reply": "2021-09-26T08:15:07.037443Z",
     "shell.execute_reply.started": "2021-09-26T07:26:09.370777Z"
    },
    "papermill": {
     "duration": 0.037276,
     "end_time": "2021-09-26T08:15:07.038056",
     "exception": false,
     "start_time": "2021-09-26T08:15:07.000780",
     "status": "completed"
    },
    "tags": []
   },
   "outputs": [],
   "source": [
    "image_transforms = transforms.Compose([transforms.ToTensor()])"
   ]
  },
  {
   "cell_type": "code",
   "execution_count": 15,
   "metadata": {
    "execution": {
     "iopub.execute_input": "2021-09-26T08:15:07.102712Z",
     "iopub.status.busy": "2021-09-26T08:15:07.102012Z",
     "iopub.status.idle": "2021-09-26T08:15:07.104807Z",
     "shell.execute_reply": "2021-09-26T08:15:07.104344Z",
     "shell.execute_reply.started": "2021-09-26T07:26:11.135687Z"
    },
    "papermill": {
     "duration": 0.036101,
     "end_time": "2021-09-26T08:15:07.104904",
     "exception": false,
     "start_time": "2021-09-26T08:15:07.068803",
     "status": "completed"
    },
    "tags": []
   },
   "outputs": [],
   "source": [
    "dataset = ImageDataset(train_path,train_df,image_transforms)"
   ]
  },
  {
   "cell_type": "code",
   "execution_count": 16,
   "metadata": {
    "execution": {
     "iopub.execute_input": "2021-09-26T08:15:07.169760Z",
     "iopub.status.busy": "2021-09-26T08:15:07.169275Z",
     "iopub.status.idle": "2021-09-26T08:15:07.209762Z",
     "shell.execute_reply": "2021-09-26T08:15:07.208858Z",
     "shell.execute_reply.started": "2021-09-26T07:26:34.902435Z"
    },
    "papermill": {
     "duration": 0.074115,
     "end_time": "2021-09-26T08:15:07.209882",
     "exception": false,
     "start_time": "2021-09-26T08:15:07.135767",
     "status": "completed"
    },
    "tags": []
   },
   "outputs": [],
   "source": [
    "sample = int(np.random.randint(1,5375,(1,)))\n",
    "img,label = dataset[sample]\n",
    "img = img.numpy()\n",
    "img = np.transpose(img,(1,2,0))"
   ]
  },
  {
   "cell_type": "code",
   "execution_count": 17,
   "metadata": {
    "execution": {
     "iopub.execute_input": "2021-09-26T08:15:07.313951Z",
     "iopub.status.busy": "2021-09-26T08:15:07.313128Z",
     "iopub.status.idle": "2021-09-26T08:15:07.437459Z",
     "shell.execute_reply": "2021-09-26T08:15:07.438704Z",
     "shell.execute_reply.started": "2021-09-26T07:26:38.696443Z"
    },
    "papermill": {
     "duration": 0.18293,
     "end_time": "2021-09-26T08:15:07.438983",
     "exception": false,
     "start_time": "2021-09-26T08:15:07.256053",
     "status": "completed"
    },
    "tags": []
   },
   "outputs": [
    {
     "data": {
      "image/png": "[encoded data removed]",
      "text/plain": [
       "<Figure size 432x288 with 1 Axes>"
      ]
     },
     "metadata": {
      "needs_background": "light"
     },
     "output_type": "display_data"
    }
   ],
   "source": [
    "plt.imshow(img)\n",
    "plt.title(f'Class : {label:.0f}')\n",
    "plt.axis('off')\n",
    "plt.show()"
   ]
  },
  {
   "cell_type": "code",
   "execution_count": 18,
   "metadata": {
    "execution": {
     "iopub.execute_input": "2021-09-26T08:15:07.564758Z",
     "iopub.status.busy": "2021-09-26T08:15:07.563627Z",
     "iopub.status.idle": "2021-09-26T08:15:07.571019Z",
     "shell.execute_reply": "2021-09-26T08:15:07.571609Z",
     "shell.execute_reply.started": "2021-09-26T07:26:46.321159Z"
    },
    "papermill": {
     "duration": 0.070425,
     "end_time": "2021-09-26T08:15:07.571790",
     "exception": false,
     "start_time": "2021-09-26T08:15:07.501365",
     "status": "completed"
    },
    "tags": []
   },
   "outputs": [],
   "source": [
    "train_set,valid_set = torch.utils.data.random_split(dataset,[5375,500])"
   ]
  },
  {
   "cell_type": "code",
   "execution_count": 19,
   "metadata": {
    "execution": {
     "iopub.execute_input": "2021-09-26T08:15:07.687263Z",
     "iopub.status.busy": "2021-09-26T08:15:07.686429Z",
     "iopub.status.idle": "2021-09-26T08:15:07.688676Z",
     "shell.execute_reply": "2021-09-26T08:15:07.688008Z",
     "shell.execute_reply.started": "2021-09-26T07:26:49.920889Z"
    },
    "papermill": {
     "duration": 0.061854,
     "end_time": "2021-09-26T08:15:07.688822",
     "exception": false,
     "start_time": "2021-09-26T08:15:07.626968",
     "status": "completed"
    },
    "tags": []
   },
   "outputs": [],
   "source": [
    "train_dataloader = DataLoader(train_set,batch_size=32,shuffle=True)\n",
    "valid_dataloader = DataLoader(valid_set,batch_size=32,shuffle=False)"
   ]
  },
  {
   "cell_type": "markdown",
   "metadata": {
    "papermill": {
     "duration": 0.047115,
     "end_time": "2021-09-26T08:15:07.788127",
     "exception": false,
     "start_time": "2021-09-26T08:15:07.741012",
     "status": "completed"
    },
    "tags": []
   },
   "source": [
    "# Create the Model"
   ]
  },
  {
   "cell_type": "code",
   "execution_count": 20,
   "metadata": {
    "execution": {
     "iopub.execute_input": "2021-09-26T08:15:07.862493Z",
     "iopub.status.busy": "2021-09-26T08:15:07.861868Z",
     "iopub.status.idle": "2021-09-26T08:15:20.712920Z",
     "shell.execute_reply": "2021-09-26T08:15:20.712415Z",
     "shell.execute_reply.started": "2021-09-26T07:26:57.79653Z"
    },
    "papermill": {
     "duration": 12.892611,
     "end_time": "2021-09-26T08:15:20.713065",
     "exception": false,
     "start_time": "2021-09-26T08:15:07.820454",
     "status": "completed"
    },
    "tags": []
   },
   "outputs": [
    {
     "name": "stderr",
     "output_type": "stream",
     "text": [
      "Downloading: \"https://download.pytorch.org/models/vgg19-dcbb9e9d.pth\" to /root/.cache/torch/hub/checkpoints/vgg19-dcbb9e9d.pth\n"
     ]
    },
    {
     "data": {
      "application/vnd.jupyter.widget-view+json": {
       "model_id": "b9a6a1be93e0448ca14d671cb10f7d19",
       "version_major": 2,
       "version_minor": 0
      },
      "text/plain": [
       "  0%|          | 0.00/548M [00:00<?, ?B/s]"
      ]
     },
     "metadata": {},
     "output_type": "display_data"
    }
   ],
   "source": [
    "model = models.vgg19(pretrained=True)"
   ]
  },
  {
   "cell_type": "code",
   "execution_count": 21,
   "metadata": {
    "execution": {
     "iopub.execute_input": "2021-09-26T08:15:20.785265Z",
     "iopub.status.busy": "2021-09-26T08:15:20.784551Z",
     "iopub.status.idle": "2021-09-26T08:15:21.694065Z",
     "shell.execute_reply": "2021-09-26T08:15:21.693546Z",
     "shell.execute_reply.started": "2021-09-26T07:27:28.681131Z"
    },
    "papermill": {
     "duration": 0.946825,
     "end_time": "2021-09-26T08:15:21.694230",
     "exception": false,
     "start_time": "2021-09-26T08:15:20.747405",
     "status": "completed"
    },
    "tags": []
   },
   "outputs": [],
   "source": [
    "model.classifier = nn.Sequential(\n",
    "                                   nn.Linear(25088,4096),\n",
    "                                   nn.ReLU(inplace=True),\n",
    "                                   nn.Dropout(0.5),\n",
    "                                   nn.Linear(4096,4096),\n",
    "                                   nn.ReLU(inplace=True),\n",
    "                                   nn.Dropout(0.5),\n",
    "                                   nn.Linear(4096,1000),\n",
    "                                   nn.ReLU(inplace=True),\n",
    "                                   nn.Linear(1000,512),\n",
    "                                   nn.ReLU(inplace=True),\n",
    "                                   nn.Linear(512,1),\n",
    "                                   nn.Sigmoid()\n",
    "                                )"
   ]
  },
  {
   "cell_type": "code",
   "execution_count": 22,
   "metadata": {
    "execution": {
     "iopub.execute_input": "2021-09-26T08:15:21.776959Z",
     "iopub.status.busy": "2021-09-26T08:15:21.776226Z",
     "iopub.status.idle": "2021-09-26T08:15:26.552745Z",
     "shell.execute_reply": "2021-09-26T08:15:26.551803Z",
     "shell.execute_reply.started": "2021-09-26T07:27:31.86308Z"
    },
    "papermill": {
     "duration": 4.820073,
     "end_time": "2021-09-26T08:15:26.552895",
     "exception": false,
     "start_time": "2021-09-26T08:15:21.732822",
     "status": "completed"
    },
    "tags": []
   },
   "outputs": [],
   "source": [
    "model = model.to(device)"
   ]
  },
  {
   "cell_type": "code",
   "execution_count": 23,
   "metadata": {
    "execution": {
     "iopub.execute_input": "2021-09-26T08:15:26.623237Z",
     "iopub.status.busy": "2021-09-26T08:15:26.622521Z",
     "iopub.status.idle": "2021-09-26T08:15:26.626105Z",
     "shell.execute_reply": "2021-09-26T08:15:26.626546Z",
     "shell.execute_reply.started": "2021-09-26T07:27:37.35812Z"
    },
    "papermill": {
     "duration": 0.041183,
     "end_time": "2021-09-26T08:15:26.626673",
     "exception": false,
     "start_time": "2021-09-26T08:15:26.585490",
     "status": "completed"
    },
    "tags": []
   },
   "outputs": [
    {
     "name": "stdout",
     "output_type": "stream",
     "text": [
      "VGG(\n",
      "  (features): Sequential(\n",
      "    (0): Conv2d(3, 64, kernel_size=(3, 3), stride=(1, 1), padding=(1, 1))\n",
      "    (1): ReLU(inplace=True)\n",
      "    (2): Conv2d(64, 64, kernel_size=(3, 3), stride=(1, 1), padding=(1, 1))\n",
      "    (3): ReLU(inplace=True)\n",
      "    (4): MaxPool2d(kernel_size=2, stride=2, padding=0, dilation=1, ceil_mode=False)\n",
      "    (5): Conv2d(64, 128, kernel_size=(3, 3), stride=(1, 1), padding=(1, 1))\n",
      "    (6): ReLU(inplace=True)\n",
      "    (7): Conv2d(128, 128, kernel_size=(3, 3), stride=(1, 1), padding=(1, 1))\n",
      "    (8): ReLU(inplace=True)\n",
      "    (9): MaxPool2d(kernel_size=2, stride=2, padding=0, dilation=1, ceil_mode=False)\n",
      "    (10): Conv2d(128, 256, kernel_size=(3, 3), stride=(1, 1), padding=(1, 1))\n",
      "    (11): ReLU(inplace=True)\n",
      "    (12): Conv2d(256, 256, kernel_size=(3, 3), stride=(1, 1), padding=(1, 1))\n",
      "    (13): ReLU(inplace=True)\n",
      "    (14): Conv2d(256, 256, kernel_size=(3, 3), stride=(1, 1), padding=(1, 1))\n",
      "    (15): ReLU(inplace=True)\n",
      "    (16): Conv2d(256, 256, kernel_size=(3, 3), stride=(1, 1), padding=(1, 1))\n",
      "    (17): ReLU(inplace=True)\n",
      "    (18): MaxPool2d(kernel_size=2, stride=2, padding=0, dilation=1, ceil_mode=False)\n",
      "    (19): Conv2d(256, 512, kernel_size=(3, 3), stride=(1, 1), padding=(1, 1))\n",
      "    (20): ReLU(inplace=True)\n",
      "    (21): Conv2d(512, 512, kernel_size=(3, 3), stride=(1, 1), padding=(1, 1))\n",
      "    (22): ReLU(inplace=True)\n",
      "    (23): Conv2d(512, 512, kernel_size=(3, 3), stride=(1, 1), padding=(1, 1))\n",
      "    (24): ReLU(inplace=True)\n",
      "    (25): Conv2d(512, 512, kernel_size=(3, 3), stride=(1, 1), padding=(1, 1))\n",
      "    (26): ReLU(inplace=True)\n",
      "    (27): MaxPool2d(kernel_size=2, stride=2, padding=0, dilation=1, ceil_mode=False)\n",
      "    (28): Conv2d(512, 512, kernel_size=(3, 3), stride=(1, 1), padding=(1, 1))\n",
      "    (29): ReLU(inplace=True)\n",
      "    (30): Conv2d(512, 512, kernel_size=(3, 3), stride=(1, 1), padding=(1, 1))\n",
      "    (31): ReLU(inplace=True)\n",
      "    (32): Conv2d(512, 512, kernel_size=(3, 3), stride=(1, 1), padding=(1, 1))\n",
      "    (33): ReLU(inplace=True)\n",
      "    (34): Conv2d(512, 512, kernel_size=(3, 3), stride=(1, 1), padding=(1, 1))\n",
      "    (35): ReLU(inplace=True)\n",
      "    (36): MaxPool2d(kernel_size=2, stride=2, padding=0, dilation=1, ceil_mode=False)\n",
      "  )\n",
      "  (avgpool): AdaptiveAvgPool2d(output_size=(7, 7))\n",
      "  (classifier): Sequential(\n",
      "    (0): Linear(in_features=25088, out_features=4096, bias=True)\n",
      "    (1): ReLU(inplace=True)\n",
      "    (2): Dropout(p=0.5, inplace=False)\n",
      "    (3): Linear(in_features=4096, out_features=4096, bias=True)\n",
      "    (4): ReLU(inplace=True)\n",
      "    (5): Dropout(p=0.5, inplace=False)\n",
      "    (6): Linear(in_features=4096, out_features=1000, bias=True)\n",
      "    (7): ReLU(inplace=True)\n",
      "    (8): Linear(in_features=1000, out_features=512, bias=True)\n",
      "    (9): ReLU(inplace=True)\n",
      "    (10): Linear(in_features=512, out_features=1, bias=True)\n",
      "    (11): Sigmoid()\n",
      "  )\n",
      ")\n"
     ]
    }
   ],
   "source": [
    "print(model)"
   ]
  },
  {
   "cell_type": "markdown",
   "metadata": {
    "papermill": {
     "duration": 0.031943,
     "end_time": "2021-09-26T08:15:26.690450",
     "exception": false,
     "start_time": "2021-09-26T08:15:26.658507",
     "status": "completed"
    },
    "tags": []
   },
   "source": [
    "# Train/Validate Functions"
   ]
  },
  {
   "cell_type": "code",
   "execution_count": 24,
   "metadata": {
    "execution": {
     "iopub.execute_input": "2021-09-26T08:15:26.762528Z",
     "iopub.status.busy": "2021-09-26T08:15:26.761825Z",
     "iopub.status.idle": "2021-09-26T08:15:26.764616Z",
     "shell.execute_reply": "2021-09-26T08:15:26.764096Z",
     "shell.execute_reply.started": "2021-09-26T07:55:18.68827Z"
    },
    "papermill": {
     "duration": 0.041633,
     "end_time": "2021-09-26T08:15:26.764715",
     "exception": false,
     "start_time": "2021-09-26T08:15:26.723082",
     "status": "completed"
    },
    "tags": []
   },
   "outputs": [],
   "source": [
    "def train(dataloader,model,loss_fn,optimizer):\n",
    "    \n",
    "    model.train()\n",
    "    \n",
    "    correct = 0\n",
    "    total = 0\n",
    "    running_loss = 0\n",
    "    \n",
    "    for batch,(imgs,labels) in enumerate(dataloader):\n",
    "        \n",
    "        output = model(imgs.to(device))\n",
    "        loss = loss_fn(output.view(-1),labels.type(torch.FloatTensor).to(device))\n",
    "        running_loss += loss.item()\n",
    "        \n",
    "        total += imgs.size(0)\n",
    "        preds = output.view(-1).cpu()\n",
    "        correct += ((preds>0.5).float() == labels.cpu()).sum().item() \n",
    "        \n",
    "        optimizer.zero_grad()\n",
    "        loss.backward()\n",
    "        optimizer.step()\n",
    "        \n",
    "    avg_loss = running_loss/len(dataloader)\n",
    "    print(f'Training Loss: {avg_loss:.7f}',end='\\t')\n",
    "    print(f'Accuracy on Training set: {100*(correct/total)}% [{correct}/{total}]')"
   ]
  },
  {
   "cell_type": "code",
   "execution_count": 25,
   "metadata": {
    "execution": {
     "iopub.execute_input": "2021-09-26T08:15:26.839155Z",
     "iopub.status.busy": "2021-09-26T08:15:26.838391Z",
     "iopub.status.idle": "2021-09-26T08:15:26.840592Z",
     "shell.execute_reply": "2021-09-26T08:15:26.841030Z",
     "shell.execute_reply.started": "2021-09-26T07:57:23.712295Z"
    },
    "papermill": {
     "duration": 0.042024,
     "end_time": "2021-09-26T08:15:26.841157",
     "exception": false,
     "start_time": "2021-09-26T08:15:26.799133",
     "status": "completed"
    },
    "tags": []
   },
   "outputs": [],
   "source": [
    "def validate(dataloader,model,loss_fn):\n",
    "    model.eval() #Sets the model for evaluation.\n",
    "    \n",
    "    total = 0\n",
    "    correct = 0\n",
    "    running_loss = 0\n",
    "    \n",
    "    with torch.no_grad(): #No need to calculate the gradients.\n",
    "        \n",
    "        for x,y in dataloader:\n",
    "            \n",
    "            output        = model(x.to(device)) #model's output.\n",
    "            loss          = loss_fn(output.view(-1),y.type(torch.FloatTensor).to(device)).item() #loss calculation.\n",
    "            running_loss += loss\n",
    "            \n",
    "            total        += y.size(0)\n",
    "            preds   = output.view(-1).cpu()\n",
    "            correct      += ((preds>0.5).float() == y.cpu()).sum().item()\n",
    "            \n",
    "    avg_loss = running_loss/len(dataloader) #Average loss per batch.      \n",
    "    \n",
    "    print(f'\\nValidation Loss = {avg_loss:.7f}',end='\\t')\n",
    "    print(f'Accuracy on Validation set = {100*(correct/total):.7f}% [{correct}/{total}]') #Prints the Accuracy.\n",
    "    \n",
    "    return avg_loss"
   ]
  },
  {
   "cell_type": "markdown",
   "metadata": {
    "papermill": {
     "duration": 0.032392,
     "end_time": "2021-09-26T08:15:26.905910",
     "exception": false,
     "start_time": "2021-09-26T08:15:26.873518",
     "status": "completed"
    },
    "tags": []
   },
   "source": [
    "# Optimize the Model"
   ]
  },
  {
   "cell_type": "code",
   "execution_count": 26,
   "metadata": {
    "execution": {
     "iopub.execute_input": "2021-09-26T08:15:26.976577Z",
     "iopub.status.busy": "2021-09-26T08:15:26.975889Z",
     "iopub.status.idle": "2021-09-26T08:15:26.978724Z",
     "shell.execute_reply": "2021-09-26T08:15:26.978323Z",
     "shell.execute_reply.started": "2021-09-26T07:48:08.18616Z"
    },
    "papermill": {
     "duration": 0.040206,
     "end_time": "2021-09-26T08:15:26.978827",
     "exception": false,
     "start_time": "2021-09-26T08:15:26.938621",
     "status": "completed"
    },
    "tags": []
   },
   "outputs": [],
   "source": [
    "def optimize(train_dataloader,valid_dataloader,model,loss_fn,optimizer,nb_epochs):\n",
    "    train_losses = []\n",
    "    valid_losses = []\n",
    "\n",
    "    for epoch in range(nb_epochs):\n",
    "        print(f'\\nEpoch {epoch+1}/{nb_epochs}')\n",
    "        print('-------------------------------')\n",
    "        train_loss = train(train_dataloader,model,loss_fn,optimizer) #Calls the train function.\n",
    "        train_losses.append(train_loss)\n",
    "        valid_loss = validate(valid_dataloader,model,loss_fn) #Calls the validate function.\n",
    "        valid_losses.append(valid_loss)\n",
    "    \n",
    "    print('\\nTraining has completed!')\n",
    "    \n",
    "    return train_losses,valid_losses"
   ]
  },
  {
   "cell_type": "code",
   "execution_count": 27,
   "metadata": {
    "execution": {
     "iopub.execute_input": "2021-09-26T08:15:27.050624Z",
     "iopub.status.busy": "2021-09-26T08:15:27.050055Z",
     "iopub.status.idle": "2021-09-26T08:21:01.645012Z",
     "shell.execute_reply": "2021-09-26T08:21:01.644496Z",
     "shell.execute_reply.started": "2021-09-26T08:14:35.077779Z"
    },
    "papermill": {
     "duration": 334.63414,
     "end_time": "2021-09-26T08:21:01.645153",
     "exception": false,
     "start_time": "2021-09-26T08:15:27.011013",
     "status": "completed"
    },
    "tags": []
   },
   "outputs": [
    {
     "name": "stdout",
     "output_type": "stream",
     "text": [
      "\n",
      "Epoch 1/25\n",
      "-------------------------------\n",
      "Training Loss: 0.6658237\tAccuracy on Training set: 75.86976744186047% [4078/5375]\n",
      "\n",
      "Validation Loss = 0.6558240\tAccuracy on Validation set = 74.6000000% [373/500]\n",
      "\n",
      "Epoch 2/25\n",
      "-------------------------------\n",
      "Training Loss: 0.6362115\tAccuracy on Training set: 75.85116279069769% [4077/5375]\n",
      "\n",
      "Validation Loss = 0.6257593\tAccuracy on Validation set = 74.6000000% [373/500]\n",
      "\n",
      "Epoch 3/25\n",
      "-------------------------------\n",
      "Training Loss: 0.5897182\tAccuracy on Training set: 75.85116279069769% [4077/5375]\n",
      "\n",
      "Validation Loss = 0.5676712\tAccuracy on Validation set = 74.6000000% [373/500]\n",
      "\n",
      "Epoch 4/25\n",
      "-------------------------------\n",
      "Training Loss: 0.5383882\tAccuracy on Training set: 75.85116279069769% [4077/5375]\n",
      "\n",
      "Validation Loss = 0.5325964\tAccuracy on Validation set = 74.6000000% [373/500]\n",
      "\n",
      "Epoch 5/25\n",
      "-------------------------------\n",
      "Training Loss: 0.5011001\tAccuracy on Training set: 75.85116279069769% [4077/5375]\n",
      "\n",
      "Validation Loss = 0.4937266\tAccuracy on Validation set = 74.6000000% [373/500]\n",
      "\n",
      "Epoch 6/25\n",
      "-------------------------------\n",
      "Training Loss: 0.4549353\tAccuracy on Training set: 75.85116279069769% [4077/5375]\n",
      "\n",
      "Validation Loss = 0.4409661\tAccuracy on Validation set = 74.6000000% [373/500]\n",
      "\n",
      "Epoch 7/25\n",
      "-------------------------------\n",
      "Training Loss: 0.3964076\tAccuracy on Training set: 75.85116279069769% [4077/5375]\n",
      "\n",
      "Validation Loss = 0.3817553\tAccuracy on Validation set = 74.6000000% [373/500]\n",
      "\n",
      "Epoch 8/25\n",
      "-------------------------------\n",
      "Training Loss: 0.3327505\tAccuracy on Training set: 76.91162790697675% [4134/5375]\n",
      "\n",
      "Validation Loss = 0.3411578\tAccuracy on Validation set = 85.4000000% [427/500]\n",
      "\n",
      "Epoch 9/25\n",
      "-------------------------------\n",
      "Training Loss: 0.2600852\tAccuracy on Training set: 88.29767441860466% [4746/5375]\n",
      "\n",
      "Validation Loss = 0.2772215\tAccuracy on Validation set = 90.6000000% [453/500]\n",
      "\n",
      "Epoch 10/25\n",
      "-------------------------------\n",
      "Training Loss: 0.1971647\tAccuracy on Training set: 92.55813953488372% [4975/5375]\n",
      "\n",
      "Validation Loss = 0.1927038\tAccuracy on Validation set = 93.8000000% [469/500]\n",
      "\n",
      "Epoch 11/25\n",
      "-------------------------------\n",
      "Training Loss: 0.1391395\tAccuracy on Training set: 94.62325581395349% [5086/5375]\n",
      "\n",
      "Validation Loss = 0.1450589\tAccuracy on Validation set = 94.8000000% [474/500]\n",
      "\n",
      "Epoch 12/25\n",
      "-------------------------------\n",
      "Training Loss: 0.1015821\tAccuracy on Training set: 96.3906976744186% [5181/5375]\n",
      "\n",
      "Validation Loss = 0.1315989\tAccuracy on Validation set = 96.0000000% [480/500]\n",
      "\n",
      "Epoch 13/25\n",
      "-------------------------------\n",
      "Training Loss: 0.0690127\tAccuracy on Training set: 97.46976744186047% [5239/5375]\n",
      "\n",
      "Validation Loss = 0.0937828\tAccuracy on Validation set = 97.6000000% [488/500]\n",
      "\n",
      "Epoch 14/25\n",
      "-------------------------------\n",
      "Training Loss: 0.0472875\tAccuracy on Training set: 98.32558139534883% [5285/5375]\n",
      "\n",
      "Validation Loss = 0.0867698\tAccuracy on Validation set = 98.2000000% [491/500]\n",
      "\n",
      "Epoch 15/25\n",
      "-------------------------------\n",
      "Training Loss: 0.0461189\tAccuracy on Training set: 98.3813953488372% [5288/5375]\n",
      "\n",
      "Validation Loss = 0.0794770\tAccuracy on Validation set = 97.6000000% [488/500]\n",
      "\n",
      "Epoch 16/25\n",
      "-------------------------------\n",
      "Training Loss: 0.0220906\tAccuracy on Training set: 99.4046511627907% [5343/5375]\n",
      "\n",
      "Validation Loss = 0.0777848\tAccuracy on Validation set = 98.6000000% [493/500]\n",
      "\n",
      "Epoch 17/25\n",
      "-------------------------------\n",
      "Training Loss: 0.0160373\tAccuracy on Training set: 99.49767441860466% [5348/5375]\n",
      "\n",
      "Validation Loss = 0.0627203\tAccuracy on Validation set = 98.6000000% [493/500]\n",
      "\n",
      "Epoch 18/25\n",
      "-------------------------------\n",
      "Training Loss: 0.0126340\tAccuracy on Training set: 99.6093023255814% [5354/5375]\n",
      "\n",
      "Validation Loss = 0.0614200\tAccuracy on Validation set = 98.6000000% [493/500]\n",
      "\n",
      "Epoch 19/25\n",
      "-------------------------------\n",
      "Training Loss: 0.0085249\tAccuracy on Training set: 99.7953488372093% [5364/5375]\n",
      "\n",
      "Validation Loss = 0.0798787\tAccuracy on Validation set = 98.8000000% [494/500]\n",
      "\n",
      "Epoch 20/25\n",
      "-------------------------------\n",
      "Training Loss: 0.0079726\tAccuracy on Training set: 99.7767441860465% [5363/5375]\n",
      "\n",
      "Validation Loss = 0.0490842\tAccuracy on Validation set = 99.2000000% [496/500]\n",
      "\n",
      "Epoch 21/25\n",
      "-------------------------------\n",
      "Training Loss: 0.0019303\tAccuracy on Training set: 100.0% [5375/5375]\n",
      "\n",
      "Validation Loss = 0.0880577\tAccuracy on Validation set = 98.8000000% [494/500]\n",
      "\n",
      "Epoch 22/25\n",
      "-------------------------------\n",
      "Training Loss: 0.0014908\tAccuracy on Training set: 100.0% [5375/5375]\n",
      "\n",
      "Validation Loss = 0.0803224\tAccuracy on Validation set = 99.0000000% [495/500]\n",
      "\n",
      "Epoch 23/25\n",
      "-------------------------------\n",
      "Training Loss: 0.0010353\tAccuracy on Training set: 100.0% [5375/5375]\n",
      "\n",
      "Validation Loss = 0.0897668\tAccuracy on Validation set = 99.0000000% [495/500]\n",
      "\n",
      "Epoch 24/25\n",
      "-------------------------------\n",
      "Training Loss: 0.0006811\tAccuracy on Training set: 100.0% [5375/5375]\n",
      "\n",
      "Validation Loss = 0.0959303\tAccuracy on Validation set = 99.0000000% [495/500]\n",
      "\n",
      "Epoch 25/25\n",
      "-------------------------------\n",
      "Training Loss: 0.0005981\tAccuracy on Training set: 100.0% [5375/5375]\n",
      "\n",
      "Validation Loss = 0.0887074\tAccuracy on Validation set = 99.0000000% [495/500]\n",
      "\n",
      "Training has completed!\n"
     ]
    }
   ],
   "source": [
    "loss_fn   = nn.BCELoss() #CrossEntropyLoss with class_weights.\n",
    "optimizer = torch.optim.SGD(model.parameters(),lr=0.001) \n",
    "nb_epochs = 25\n",
    "#Call the optimize function.\n",
    "train_losses, valid_losses = optimize(train_dataloader,valid_dataloader,model,loss_fn,optimizer,nb_epochs)"
   ]
  },
  {
   "cell_type": "code",
   "execution_count": 28,
   "metadata": {
    "execution": {
     "iopub.execute_input": "2021-09-26T08:21:01.772641Z",
     "iopub.status.busy": "2021-09-26T08:21:01.771456Z",
     "iopub.status.idle": "2021-09-26T08:21:01.903523Z",
     "shell.execute_reply": "2021-09-26T08:21:01.903926Z",
     "shell.execute_reply.started": "2021-09-10T19:12:06.606818Z"
    },
    "papermill": {
     "duration": 0.209734,
     "end_time": "2021-09-26T08:21:01.904088",
     "exception": false,
     "start_time": "2021-09-26T08:21:01.694354",
     "status": "completed"
    },
    "tags": []
   },
   "outputs": [
    {
     "data": {
      "image/png": "[encoded data removed]",
      "text/plain": [
       "<Figure size 432x288 with 1 Axes>"
      ]
     },
     "metadata": {
      "needs_background": "light"
     },
     "output_type": "display_data"
    }
   ],
   "source": [
    "plt.title('Losses for all the epochs')\n",
    "plt.plot(train_losses,label='Training loss')\n",
    "plt.plot(valid_losses,label='Validation loss')\n",
    "plt.xlabel('Epochs')\n",
    "plt.ylabel('Losses')\n",
    "plt.legend()\n",
    "plt.show()"
   ]
  },
  {
   "cell_type": "markdown",
   "metadata": {
    "papermill": {
     "duration": 0.047637,
     "end_time": "2021-09-26T08:21:02.001096",
     "exception": false,
     "start_time": "2021-09-26T08:21:01.953459",
     "status": "completed"
    },
    "tags": []
   },
   "source": [
    "# Testing the Model"
   ]
  },
  {
   "cell_type": "code",
   "execution_count": 29,
   "metadata": {
    "execution": {
     "iopub.execute_input": "2021-09-26T08:21:02.098477Z",
     "iopub.status.busy": "2021-09-26T08:21:02.097883Z",
     "iopub.status.idle": "2021-09-26T08:21:02.102357Z",
     "shell.execute_reply": "2021-09-26T08:21:02.101911Z",
     "shell.execute_reply.started": "2021-09-10T07:21:34.678006Z"
    },
    "papermill": {
     "duration": 0.054624,
     "end_time": "2021-09-26T08:21:02.102464",
     "exception": false,
     "start_time": "2021-09-26T08:21:02.047840",
     "status": "completed"
    },
    "tags": []
   },
   "outputs": [],
   "source": [
    "test_path = '../input/hindiocr/test/test'"
   ]
  },
  {
   "cell_type": "code",
   "execution_count": 30,
   "metadata": {
    "execution": {
     "iopub.execute_input": "2021-09-26T08:21:02.199319Z",
     "iopub.status.busy": "2021-09-26T08:21:02.198792Z",
     "iopub.status.idle": "2021-09-26T08:21:02.214162Z",
     "shell.execute_reply": "2021-09-26T08:21:02.213704Z",
     "shell.execute_reply.started": "2021-09-10T07:21:34.68397Z"
    },
    "papermill": {
     "duration": 0.064882,
     "end_time": "2021-09-26T08:21:02.214313",
     "exception": false,
     "start_time": "2021-09-26T08:21:02.149431",
     "status": "completed"
    },
    "tags": []
   },
   "outputs": [],
   "source": [
    "test_images = os.listdir(test_path)"
   ]
  },
  {
   "cell_type": "code",
   "execution_count": 31,
   "metadata": {
    "execution": {
     "iopub.execute_input": "2021-09-26T08:21:02.314104Z",
     "iopub.status.busy": "2021-09-26T08:21:02.313543Z",
     "iopub.status.idle": "2021-09-26T08:21:02.317576Z",
     "shell.execute_reply": "2021-09-26T08:21:02.317147Z",
     "shell.execute_reply.started": "2021-09-10T07:21:34.713603Z"
    },
    "papermill": {
     "duration": 0.054714,
     "end_time": "2021-09-26T08:21:02.317707",
     "exception": false,
     "start_time": "2021-09-26T08:21:02.262993",
     "status": "completed"
    },
    "tags": []
   },
   "outputs": [],
   "source": [
    "test_df = pd.DataFrame({'Images':test_images})"
   ]
  },
  {
   "cell_type": "code",
   "execution_count": 32,
   "metadata": {
    "execution": {
     "iopub.execute_input": "2021-09-26T08:21:02.413955Z",
     "iopub.status.busy": "2021-09-26T08:21:02.413395Z",
     "iopub.status.idle": "2021-09-26T08:21:02.417386Z",
     "shell.execute_reply": "2021-09-26T08:21:02.416971Z",
     "shell.execute_reply.started": "2021-09-10T07:21:34.722628Z"
    },
    "papermill": {
     "duration": 0.05363,
     "end_time": "2021-09-26T08:21:02.417496",
     "exception": false,
     "start_time": "2021-09-26T08:21:02.363866",
     "status": "completed"
    },
    "tags": []
   },
   "outputs": [],
   "source": [
    "test_set = ImageDataset(test_path,test_df,image_transforms,train=False)"
   ]
  },
  {
   "cell_type": "code",
   "execution_count": 33,
   "metadata": {
    "execution": {
     "iopub.execute_input": "2021-09-26T08:21:02.517022Z",
     "iopub.status.busy": "2021-09-26T08:21:02.515775Z",
     "iopub.status.idle": "2021-09-26T08:21:02.518755Z",
     "shell.execute_reply": "2021-09-26T08:21:02.518127Z",
     "shell.execute_reply.started": "2021-09-10T07:21:34.72976Z"
    },
    "papermill": {
     "duration": 0.053393,
     "end_time": "2021-09-26T08:21:02.518881",
     "exception": false,
     "start_time": "2021-09-26T08:21:02.465488",
     "status": "completed"
    },
    "tags": []
   },
   "outputs": [],
   "source": [
    "test_dataloader = DataLoader(test_set,batch_size=32,shuffle=False)"
   ]
  },
  {
   "cell_type": "code",
   "execution_count": 34,
   "metadata": {
    "execution": {
     "iopub.execute_input": "2021-09-26T08:21:02.617871Z",
     "iopub.status.busy": "2021-09-26T08:21:02.616576Z",
     "iopub.status.idle": "2021-09-26T08:21:02.619398Z",
     "shell.execute_reply": "2021-09-26T08:21:02.618947Z",
     "shell.execute_reply.started": "2021-09-10T07:21:34.737931Z"
    },
    "papermill": {
     "duration": 0.054491,
     "end_time": "2021-09-26T08:21:02.619513",
     "exception": false,
     "start_time": "2021-09-26T08:21:02.565022",
     "status": "completed"
    },
    "tags": []
   },
   "outputs": [],
   "source": [
    "def test(dataloader,model):\n",
    "    model.eval() #Sets the model for evaluation.\n",
    "    \n",
    "    labels = [] #List to store the predicted labels.\n",
    "    \n",
    "    with torch.no_grad():\n",
    "        \n",
    "        for batch,x in enumerate(dataloader):\n",
    "            \n",
    "            output = model(x.to(device))\n",
    "            \n",
    "            predictions = output.argmax(dim=1).cpu().detach().tolist() #Predicted labels for an image batch.\n",
    "            labels.extend(predictions)\n",
    "                \n",
    "    print('Testing has completed')\n",
    "            \n",
    "    return labels"
   ]
  },
  {
   "cell_type": "code",
   "execution_count": 35,
   "metadata": {
    "execution": {
     "iopub.execute_input": "2021-09-26T08:21:02.716716Z",
     "iopub.status.busy": "2021-09-26T08:21:02.716037Z",
     "iopub.status.idle": "2021-09-26T08:21:03.115684Z",
     "shell.execute_reply": "2021-09-26T08:21:03.116076Z",
     "shell.execute_reply.started": "2021-09-10T07:21:34.747635Z"
    },
    "papermill": {
     "duration": 0.450111,
     "end_time": "2021-09-26T08:21:03.116240",
     "exception": false,
     "start_time": "2021-09-26T08:21:02.666129",
     "status": "completed"
    },
    "tags": []
   },
   "outputs": [
    {
     "name": "stdout",
     "output_type": "stream",
     "text": [
      "Testing has completed\n"
     ]
    }
   ],
   "source": [
    "labels = test(test_dataloader,model)"
   ]
  },
  {
   "cell_type": "code",
   "execution_count": 36,
   "metadata": {
    "execution": {
     "iopub.execute_input": "2021-09-26T08:21:03.217316Z",
     "iopub.status.busy": "2021-09-26T08:21:03.216061Z",
     "iopub.status.idle": "2021-09-26T08:21:03.218834Z",
     "shell.execute_reply": "2021-09-26T08:21:03.218429Z",
     "shell.execute_reply.started": "2021-09-10T07:21:35.159892Z"
    },
    "papermill": {
     "duration": 0.055579,
     "end_time": "2021-09-26T08:21:03.218939",
     "exception": false,
     "start_time": "2021-09-26T08:21:03.163360",
     "status": "completed"
    },
    "tags": []
   },
   "outputs": [],
   "source": [
    "test_df['Labels'] = labels"
   ]
  },
  {
   "cell_type": "code",
   "execution_count": 37,
   "metadata": {
    "execution": {
     "iopub.execute_input": "2021-09-26T08:21:03.321206Z",
     "iopub.status.busy": "2021-09-26T08:21:03.320684Z",
     "iopub.status.idle": "2021-09-26T08:21:03.325657Z",
     "shell.execute_reply": "2021-09-26T08:21:03.325263Z",
     "shell.execute_reply.started": "2021-09-10T07:21:35.168327Z"
    },
    "papermill": {
     "duration": 0.059505,
     "end_time": "2021-09-26T08:21:03.325777",
     "exception": false,
     "start_time": "2021-09-26T08:21:03.266272",
     "status": "completed"
    },
    "tags": []
   },
   "outputs": [
    {
     "data": {
      "text/html": [
       "<div>\n",
       "<style scoped>\n",
       "    .dataframe tbody tr th:only-of-type {\n",
       "        vertical-align: middle;\n",
       "    }\n",
       "\n",
       "    .dataframe tbody tr th {\n",
       "        vertical-align: top;\n",
       "    }\n",
       "\n",
       "    .dataframe thead th {\n",
       "        text-align: right;\n",
       "    }\n",
       "</style>\n",
       "<table border=\"1\" class=\"dataframe\">\n",
       "  <thead>\n",
       "    <tr style=\"text-align: right;\">\n",
       "      <th></th>\n",
       "      <th>Images</th>\n",
       "      <th>Labels</th>\n",
       "    </tr>\n",
       "  </thead>\n",
       "  <tbody>\n",
       "    <tr>\n",
       "      <th>0</th>\n",
       "      <td>45.jpg</td>\n",
       "      <td>0</td>\n",
       "    </tr>\n",
       "    <tr>\n",
       "      <th>1</th>\n",
       "      <td>56.jpg</td>\n",
       "      <td>0</td>\n",
       "    </tr>\n",
       "    <tr>\n",
       "      <th>2</th>\n",
       "      <td>89.jpg</td>\n",
       "      <td>0</td>\n",
       "    </tr>\n",
       "    <tr>\n",
       "      <th>3</th>\n",
       "      <td>20.jpg</td>\n",
       "      <td>0</td>\n",
       "    </tr>\n",
       "    <tr>\n",
       "      <th>4</th>\n",
       "      <td>58.jpg</td>\n",
       "      <td>0</td>\n",
       "    </tr>\n",
       "  </tbody>\n",
       "</table>\n",
       "</div>"
      ],
      "text/plain": [
       "   Images  Labels\n",
       "0  45.jpg       0\n",
       "1  56.jpg       0\n",
       "2  89.jpg       0\n",
       "3  20.jpg       0\n",
       "4  58.jpg       0"
      ]
     },
     "execution_count": 37,
     "metadata": {},
     "output_type": "execute_result"
    }
   ],
   "source": [
    "test_df.head()"
   ]
  },
  {
   "cell_type": "code",
   "execution_count": 38,
   "metadata": {
    "execution": {
     "iopub.execute_input": "2021-09-26T08:21:03.427819Z",
     "iopub.status.busy": "2021-09-26T08:21:03.427156Z",
     "iopub.status.idle": "2021-09-26T08:21:03.430366Z",
     "shell.execute_reply": "2021-09-26T08:21:03.429941Z",
     "shell.execute_reply.started": "2021-09-10T07:21:35.185691Z"
    },
    "papermill": {
     "duration": 0.056809,
     "end_time": "2021-09-26T08:21:03.430476",
     "exception": false,
     "start_time": "2021-09-26T08:21:03.373667",
     "status": "completed"
    },
    "tags": []
   },
   "outputs": [],
   "source": [
    "import random\n",
    "import json\n",
    "\n",
    "def write_json(filename, result):\n",
    "    with open(filename, 'w') as outfile:\n",
    "        json.dump(result, outfile)\n",
    "\n",
    "def read_json(filename):\n",
    "    with open(filename, 'r') as outfile:\n",
    "        data =  json.load(outfile)\n",
    "    return data\n",
    "\n",
    "def generate_file(filename):\n",
    "    res = {}\n",
    "    for i in range(1,99):\n",
    "        test_file = str(i) + '.jpg'\n",
    "        temp = test_df[test_df['Images']== test_file] \n",
    "        res[test_file] = int(temp['Labels'])\n",
    "\n",
    "    write_json(filename, res)"
   ]
  },
  {
   "cell_type": "code",
   "execution_count": 39,
   "metadata": {
    "execution": {
     "iopub.execute_input": "2021-09-26T08:21:03.584520Z",
     "iopub.status.busy": "2021-09-26T08:21:03.583496Z",
     "iopub.status.idle": "2021-09-26T08:21:03.587497Z",
     "shell.execute_reply": "2021-09-26T08:21:03.587024Z",
     "shell.execute_reply.started": "2021-09-10T07:21:35.195107Z"
    },
    "papermill": {
     "duration": 0.11042,
     "end_time": "2021-09-26T08:21:03.587614",
     "exception": false,
     "start_time": "2021-09-26T08:21:03.477194",
     "status": "completed"
    },
    "tags": []
   },
   "outputs": [],
   "source": [
    "generate_file('result.json')"
   ]
  },
  {
   "cell_type": "code",
   "execution_count": 40,
   "metadata": {
    "execution": {
     "iopub.execute_input": "2021-09-26T08:21:03.686514Z",
     "iopub.status.busy": "2021-09-26T08:21:03.685954Z",
     "iopub.status.idle": "2021-09-26T08:21:03.689962Z",
     "shell.execute_reply": "2021-09-26T08:21:03.689562Z",
     "shell.execute_reply.started": "2021-09-10T07:21:35.257223Z"
    },
    "papermill": {
     "duration": 0.054644,
     "end_time": "2021-09-26T08:21:03.690072",
     "exception": false,
     "start_time": "2021-09-26T08:21:03.635428",
     "status": "completed"
    },
    "tags": []
   },
   "outputs": [],
   "source": [
    "test_results = read_json('result.json')"
   ]
  },
  {
   "cell_type": "code",
   "execution_count": 41,
   "metadata": {
    "execution": {
     "iopub.execute_input": "2021-09-26T08:21:03.790701Z",
     "iopub.status.busy": "2021-09-26T08:21:03.789896Z",
     "iopub.status.idle": "2021-09-26T08:21:03.795311Z",
     "shell.execute_reply": "2021-09-26T08:21:03.794831Z",
     "shell.execute_reply.started": "2021-09-10T07:21:35.269834Z"
    },
    "papermill": {
     "duration": 0.058433,
     "end_time": "2021-09-26T08:21:03.795428",
     "exception": false,
     "start_time": "2021-09-26T08:21:03.736995",
     "status": "completed"
    },
    "tags": []
   },
   "outputs": [
    {
     "data": {
      "text/plain": [
       "{'1.jpg': 0,\n",
       " '2.jpg': 0,\n",
       " '3.jpg': 0,\n",
       " '4.jpg': 0,\n",
       " '5.jpg': 0,\n",
       " '6.jpg': 0,\n",
       " '7.jpg': 0,\n",
       " '8.jpg': 0,\n",
       " '9.jpg': 0,\n",
       " '10.jpg': 0,\n",
       " '11.jpg': 0,\n",
       " '12.jpg': 0,\n",
       " '13.jpg': 0,\n",
       " '14.jpg': 0,\n",
       " '15.jpg': 0,\n",
       " '16.jpg': 0,\n",
       " '17.jpg': 0,\n",
       " '18.jpg': 0,\n",
       " '19.jpg': 0,\n",
       " '20.jpg': 0,\n",
       " '21.jpg': 0,\n",
       " '22.jpg': 0,\n",
       " '23.jpg': 0,\n",
       " '24.jpg': 0,\n",
       " '25.jpg': 0,\n",
       " '26.jpg': 0,\n",
       " '27.jpg': 0,\n",
       " '28.jpg': 0,\n",
       " '29.jpg': 0,\n",
       " '30.jpg': 0,\n",
       " '31.jpg': 0,\n",
       " '32.jpg': 0,\n",
       " '33.jpg': 0,\n",
       " '34.jpg': 0,\n",
       " '35.jpg': 0,\n",
       " '36.jpg': 0,\n",
       " '37.jpg': 0,\n",
       " '38.jpg': 0,\n",
       " '39.jpg': 0,\n",
       " '40.jpg': 0,\n",
       " '41.jpg': 0,\n",
       " '42.jpg': 0,\n",
       " '43.jpg': 0,\n",
       " '44.jpg': 0,\n",
       " '45.jpg': 0,\n",
       " '46.jpg': 0,\n",
       " '47.jpg': 0,\n",
       " '48.jpg': 0,\n",
       " '49.jpg': 0,\n",
       " '50.jpg': 0,\n",
       " '51.jpg': 0,\n",
       " '52.jpg': 0,\n",
       " '53.jpg': 0,\n",
       " '54.jpg': 0,\n",
       " '55.jpg': 0,\n",
       " '56.jpg': 0,\n",
       " '57.jpg': 0,\n",
       " '58.jpg': 0,\n",
       " '59.jpg': 0,\n",
       " '60.jpg': 0,\n",
       " '61.jpg': 0,\n",
       " '62.jpg': 0,\n",
       " '63.jpg': 0,\n",
       " '64.jpg': 0,\n",
       " '65.jpg': 0,\n",
       " '66.jpg': 0,\n",
       " '67.jpg': 0,\n",
       " '68.jpg': 0,\n",
       " '69.jpg': 0,\n",
       " '70.jpg': 0,\n",
       " '71.jpg': 0,\n",
       " '72.jpg': 0,\n",
       " '73.jpg': 0,\n",
       " '74.jpg': 0,\n",
       " '75.jpg': 0,\n",
       " '76.jpg': 0,\n",
       " '77.jpg': 0,\n",
       " '78.jpg': 0,\n",
       " '79.jpg': 0,\n",
       " '80.jpg': 0,\n",
       " '81.jpg': 0,\n",
       " '82.jpg': 0,\n",
       " '83.jpg': 0,\n",
       " '84.jpg': 0,\n",
       " '85.jpg': 0,\n",
       " '86.jpg': 0,\n",
       " '87.jpg': 0,\n",
       " '88.jpg': 0,\n",
       " '89.jpg': 0,\n",
       " '90.jpg': 0,\n",
       " '91.jpg': 0,\n",
       " '92.jpg': 0,\n",
       " '93.jpg': 0,\n",
       " '94.jpg': 0,\n",
       " '95.jpg': 0,\n",
       " '96.jpg': 0,\n",
       " '97.jpg': 0,\n",
       " '98.jpg': 0}"
      ]
     },
     "execution_count": 41,
     "metadata": {},
     "output_type": "execute_result"
    }
   ],
   "source": [
    "test_results"
   ]
  }
 ],
 "metadata": {
  "kernelspec": {
   "display_name": "Python 3",
   "language": "python",
   "name": "python3"
  },
  "language_info": {
   "codemirror_mode": {
    "name": "ipython",
    "version": 3
   },
   "file_extension": ".py",
   "mimetype": "text/x-python",
   "name": "python",
   "nbconvert_exporter": "python",
   "pygments_lexer": "ipython3",
   "version": "3.8.10"
  },
  "papermill": {
   "default_parameters": {},
   "duration": 367.742645,
   "end_time": "2021-09-26T08:21:05.248661",
   "environment_variables": {},
   "exception": null,
   "input_path": "__notebook__.ipynb",
   "output_path": "__notebook__.ipynb",
   "parameters": {},
   "start_time": "2021-09-26T08:14:57.506016",
   "version": "2.3.3"
  },
  "widgets": {
   "application/vnd.jupyter.widget-state+json": {
    "state": {
     "1bb2c0832fbe4d17ade2d021133874f9": {
      "model_module": "@jupyter-widgets/controls",
      "model_module_version": "1.5.0",
      "model_name": "FloatProgressModel",
      "state": {
       "_dom_classes": [],
       "_model_module": "@jupyter-widgets/controls",
       "_model_module_version": "1.5.0",
       "_model_name": "FloatProgressModel",
       "_view_count": null,
       "_view_module": "@jupyter-widgets/controls",
       "_view_module_version": "1.5.0",
       "_view_name": "ProgressView",
       "bar_style": "success",
       "description": "",
       "description_tooltip": null,
       "layout": "IPY_MODEL_ba5b5ff4d98947949dcebe8c47a8e055",
       "max": 574673361,
       "min": 0,
       "orientation": "horizontal",
       "style": "IPY_MODEL_2d3550cbd5634b71a7f28388884d80ff",
       "value": 574673361
      }
     },
     "2d3550cbd5634b71a7f28388884d80ff": {
      "model_module": "@jupyter-widgets/controls",
      "model_module_version": "1.5.0",
      "model_name": "ProgressStyleModel",
      "state": {
       "_model_module": "@jupyter-widgets/controls",
       "_model_module_version": "1.5.0",
       "_model_name": "ProgressStyleModel",
       "_view_count": null,
       "_view_module": "@jupyter-widgets/base",
       "_view_module_version": "1.2.0",
       "_view_name": "StyleView",
       "bar_color": null,
       "description_width": ""
      }
     },
     "51ffcd1ebed64ccabcb97fcead08450a": {
      "model_module": "@jupyter-widgets/controls",
      "model_module_version": "1.5.0",
      "model_name": "DescriptionStyleModel",
      "state": {
       "_model_module": "@jupyter-widgets/controls",
       "_model_module_version": "1.5.0",
       "_model_name": "DescriptionStyleModel",
       "_view_count": null,
       "_view_module": "@jupyter-widgets/base",
       "_view_module_version": "1.2.0",
       "_view_name": "StyleView",
       "description_width": ""
      }
     },
     "6eb997126c08403398a67786e4c7c80f": {
      "model_module": "@jupyter-widgets/controls",
      "model_module_version": "1.5.0",
      "model_name": "HTMLModel",
      "state": {
       "_dom_classes": [],
       "_model_module": "@jupyter-widgets/controls",
       "_model_module_version": "1.5.0",
       "_model_name": "HTMLModel",
       "_view_count": null,
       "_view_module": "@jupyter-widgets/controls",
       "_view_module_version": "1.5.0",
       "_view_name": "HTMLView",
       "description": "",
       "description_tooltip": null,
       "layout": "IPY_MODEL_f9159d76c58a48439175fcaeb885d4c4",
       "placeholder": "​",
       "style": "IPY_MODEL_b4f852e6860747be8307352cc2f0a60c",
       "value": " 548M/548M [00:11&lt;00:00, 43.0MB/s]"
      }
     },
     "72a88152d036419d99efb2b26ccf4b5f": {
      "model_module": "@jupyter-widgets/base",
      "model_module_version": "1.2.0",
      "model_name": "LayoutModel",
      "state": {
       "_model_module": "@jupyter-widgets/base",
       "_model_module_version": "1.2.0",
       "_model_name": "LayoutModel",
       "_view_count": null,
       "_view_module": "@jupyter-widgets/base",
       "_view_module_version": "1.2.0",
       "_view_name": "LayoutView",
       "align_content": null,
       "align_items": null,
       "align_self": null,
       "border": null,
       "bottom": null,
       "display": null,
       "flex": null,
       "flex_flow": null,
       "grid_area": null,
       "grid_auto_columns": null,
       "grid_auto_flow": null,
       "grid_auto_rows": null,
       "grid_column": null,
       "grid_gap": null,
       "grid_row": null,
       "grid_template_areas": null,
       "grid_template_columns": null,
       "grid_template_rows": null,
       "height": null,
       "justify_content": null,
       "justify_items": null,
       "left": null,
       "margin": null,
       "max_height": null,
       "max_width": null,
       "min_height": null,
       "min_width": null,
       "object_fit": null,
       "object_position": null,
       "order": null,
       "overflow": null,
       "overflow_x": null,
       "overflow_y": null,
       "padding": null,
       "right": null,
       "top": null,
       "visibility": null,
       "width": null
      }
     },
     "9683255d55934aa7bd6b6463ee436bb1": {
      "model_module": "@jupyter-widgets/base",
      "model_module_version": "1.2.0",
      "model_name": "LayoutModel",
      "state": {
       "_model_module": "@jupyter-widgets/base",
       "_model_module_version": "1.2.0",
       "_model_name": "LayoutModel",
       "_view_count": null,
       "_view_module": "@jupyter-widgets/base",
       "_view_module_version": "1.2.0",
       "_view_name": "LayoutView",
       "align_content": null,
       "align_items": null,
       "align_self": null,
       "border": null,
       "bottom": null,
       "display": null,
       "flex": null,
       "flex_flow": null,
       "grid_area": null,
       "grid_auto_columns": null,
       "grid_auto_flow": null,
       "grid_auto_rows": null,
       "grid_column": null,
       "grid_gap": null,
       "grid_row": null,
       "grid_template_areas": null,
       "grid_template_columns": null,
       "grid_template_rows": null,
       "height": null,
       "justify_content": null,
       "justify_items": null,
       "left": null,
       "margin": null,
       "max_height": null,
       "max_width": null,
       "min_height": null,
       "min_width": null,
       "object_fit": null,
       "object_position": null,
       "order": null,
       "overflow": null,
       "overflow_x": null,
       "overflow_y": null,
       "padding": null,
       "right": null,
       "top": null,
       "visibility": null,
       "width": null
      }
     },
     "b4f852e6860747be8307352cc2f0a60c": {
      "model_module": "@jupyter-widgets/controls",
      "model_module_version": "1.5.0",
      "model_name": "DescriptionStyleModel",
      "state": {
       "_model_module": "@jupyter-widgets/controls",
       "_model_module_version": "1.5.0",
       "_model_name": "DescriptionStyleModel",
       "_view_count": null,
       "_view_module": "@jupyter-widgets/base",
       "_view_module_version": "1.2.0",
       "_view_name": "StyleView",
       "description_width": ""
      }
     },
     "b9a6a1be93e0448ca14d671cb10f7d19": {
      "model_module": "@jupyter-widgets/controls",
      "model_module_version": "1.5.0",
      "model_name": "HBoxModel",
      "state": {
       "_dom_classes": [],
       "_model_module": "@jupyter-widgets/controls",
       "_model_module_version": "1.5.0",
       "_model_name": "HBoxModel",
       "_view_count": null,
       "_view_module": "@jupyter-widgets/controls",
       "_view_module_version": "1.5.0",
       "_view_name": "HBoxView",
       "box_style": "",
       "children": [
        "IPY_MODEL_f24320428abe4486b1d4cceff36e869f",
        "IPY_MODEL_1bb2c0832fbe4d17ade2d021133874f9",
        "IPY_MODEL_6eb997126c08403398a67786e4c7c80f"
       ],
       "layout": "IPY_MODEL_72a88152d036419d99efb2b26ccf4b5f"
      }
     },
     "ba5b5ff4d98947949dcebe8c47a8e055": {
      "model_module": "@jupyter-widgets/base",
      "model_module_version": "1.2.0",
      "model_name": "LayoutModel",
      "state": {
       "_model_module": "@jupyter-widgets/base",
       "_model_module_version": "1.2.0",
       "_model_name": "LayoutModel",
       "_view_count": null,
       "_view_module": "@jupyter-widgets/base",
       "_view_module_version": "1.2.0",
       "_view_name": "LayoutView",
       "align_content": null,
       "align_items": null,
       "align_self": null,
       "border": null,
       "bottom": null,
       "display": null,
       "flex": null,
       "flex_flow": null,
       "grid_area": null,
       "grid_auto_columns": null,
       "grid_auto_flow": null,
       "grid_auto_rows": null,
       "grid_column": null,
       "grid_gap": null,
       "grid_row": null,
       "grid_template_areas": null,
       "grid_template_columns": null,
       "grid_template_rows": null,
       "height": null,
       "justify_content": null,
       "justify_items": null,
       "left": null,
       "margin": null,
       "max_height": null,
       "max_width": null,
       "min_height": null,
       "min_width": null,
       "object_fit": null,
       "object_position": null,
       "order": null,
       "overflow": null,
       "overflow_x": null,
       "overflow_y": null,
       "padding": null,
       "right": null,
       "top": null,
       "visibility": null,
       "width": null
      }
     },
     "f24320428abe4486b1d4cceff36e869f": {
      "model_module": "@jupyter-widgets/controls",
      "model_module_version": "1.5.0",
      "model_name": "HTMLModel",
      "state": {
       "_dom_classes": [],
       "_model_module": "@jupyter-widgets/controls",
       "_model_module_version": "1.5.0",
       "_model_name": "HTMLModel",
       "_view_count": null,
       "_view_module": "@jupyter-widgets/controls",
       "_view_module_version": "1.5.0",
       "_view_name": "HTMLView",
       "description": "",
       "description_tooltip": null,
       "layout": "IPY_MODEL_9683255d55934aa7bd6b6463ee436bb1",
       "placeholder": "​",
       "style": "IPY_MODEL_51ffcd1ebed64ccabcb97fcead08450a",
       "value": "100%"
      }
     },
     "f9159d76c58a48439175fcaeb885d4c4": {
      "model_module": "@jupyter-widgets/base",
      "model_module_version": "1.2.0",
      "model_name": "LayoutModel",
      "state": {
       "_model_module": "@jupyter-widgets/base",
       "_model_module_version": "1.2.0",
       "_model_name": "LayoutModel",
       "_view_count": null,
       "_view_module": "@jupyter-widgets/base",
       "_view_module_version": "1.2.0",
       "_view_name": "LayoutView",
       "align_content": null,
       "align_items": null,
       "align_self": null,
       "border": null,
       "bottom": null,
       "display": null,
       "flex": null,
       "flex_flow": null,
       "grid_area": null,
       "grid_auto_columns": null,
       "grid_auto_flow": null,
       "grid_auto_rows": null,
       "grid_column": null,
       "grid_gap": null,
       "grid_row": null,
       "grid_template_areas": null,
       "grid_template_columns": null,
       "grid_template_rows": null,
       "height": null,
       "justify_content": null,
       "justify_items": null,
       "left": null,
       "margin": null,
       "max_height": null,
       "max_width": null,
       "min_height": null,
       "min_width": null,
       "object_fit": null,
       "object_position": null,
       "order": null,
       "overflow": null,
       "overflow_x": null,
       "overflow_y": null,
       "padding": null,
       "right": null,
       "top": null,
       "visibility": null,
       "width": null
      }
     }
    },
    "version_major": 2,
    "version_minor": 0
   }
  }
 },
 "nbformat": 4,
 "nbformat_minor": 5
}
